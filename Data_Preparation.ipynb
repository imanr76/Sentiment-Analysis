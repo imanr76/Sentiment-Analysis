{
 "cells": [
  {
   "cell_type": "code",
   "execution_count": 1,
   "metadata": {},
   "outputs": [
    {
     "name": "stderr",
     "output_type": "stream",
     "text": [
      "[nltk_data] Downloading package punkt to\n",
      "[nltk_data]     C:\\Users\\ImanRahgozar\\AppData\\Roaming\\nltk_data...\n",
      "[nltk_data]   Unzipping tokenizers\\punkt.zip.\n"
     ]
    },
    {
     "data": {
      "text/plain": [
       "True"
      ]
     },
     "execution_count": 1,
     "metadata": {},
     "output_type": "execute_result"
    }
   ],
   "source": [
    "import torch\n",
    "import pandas as pd\n",
    "import matplotlib.pyplot as plt\n",
    "import os\n",
    "import seaborn as sns\n",
    "from sklearn.model_selection import train_test_split\n",
    "import nltk\n",
    "from nltk.tokenize import word_tokenize\n",
    "from collections import Counter\n",
    "import re\n",
    "import torch\n",
    "from torchtext.vocab import vocab\n",
    "from torch.utils.data import Dataset\n",
    "\n",
    "\n",
    "nltk.download(\"punkt\")"
   ]
  },
  {
   "cell_type": "markdown",
   "metadata": {},
   "source": [
    "# Downloading and Exploring the Data:"
   ]
  },
  {
   "cell_type": "markdown",
   "metadata": {},
   "source": [
    "The data used in this project is the women's clothing product reviews available to the public from the following S3 bucket:\n",
    "`s3://dlai-practical-data-science/data/raw/womens_clothing_ecommerce_reviews.csv` \n",
    "Let's download the data.\n",
    "Note: This requires the AWS SDK to be installed and configured on the local machine if running locally. "
   ]
  },
  {
   "cell_type": "code",
   "execution_count": 2,
   "metadata": {},
   "outputs": [],
   "source": [
    "if 'data' not in os.listdir():\n",
    "    os.mkdir(\"./data\")\n",
    "\n",
    "if 'raw_data' not in os.listdir(\"./data\"):\n",
    "    os.mkdir(\"./data/raw_data\")\n",
    "\n",
    "if \"womens_clothing_ecommerce_reviews.csv\" not in os.listdir(\"./data/raw_data\"):\n",
    "    !aws s3 cp s3://dlai-practical-data-science/data/raw/womens_clothing_ecommerce_reviews.csv ./data/raw_data"
   ]
  },
  {
   "cell_type": "markdown",
   "metadata": {},
   "source": [
    "Now, let's explore the data and gain some information about it."
   ]
  },
  {
   "cell_type": "code",
   "execution_count": 3,
   "metadata": {},
   "outputs": [
    {
     "data": {
      "text/html": [
       "<div>\n",
       "<style scoped>\n",
       "    .dataframe tbody tr th:only-of-type {\n",
       "        vertical-align: middle;\n",
       "    }\n",
       "\n",
       "    .dataframe tbody tr th {\n",
       "        vertical-align: top;\n",
       "    }\n",
       "\n",
       "    .dataframe thead th {\n",
       "        text-align: right;\n",
       "    }\n",
       "</style>\n",
       "<table border=\"1\" class=\"dataframe\">\n",
       "  <thead>\n",
       "    <tr style=\"text-align: right;\">\n",
       "      <th></th>\n",
       "      <th>Unnamed: 0</th>\n",
       "      <th>Clothing ID</th>\n",
       "      <th>Age</th>\n",
       "      <th>Title</th>\n",
       "      <th>Review Text</th>\n",
       "      <th>Rating</th>\n",
       "      <th>Recommended IND</th>\n",
       "      <th>Positive Feedback Count</th>\n",
       "      <th>Division Name</th>\n",
       "      <th>Department Name</th>\n",
       "      <th>Class Name</th>\n",
       "    </tr>\n",
       "  </thead>\n",
       "  <tbody>\n",
       "    <tr>\n",
       "      <th>0</th>\n",
       "      <td>0</td>\n",
       "      <td>847</td>\n",
       "      <td>33</td>\n",
       "      <td>Cute, crisp shirt</td>\n",
       "      <td>If this product was in petite  i would get the...</td>\n",
       "      <td>4</td>\n",
       "      <td>1</td>\n",
       "      <td>2</td>\n",
       "      <td>General</td>\n",
       "      <td>Tops</td>\n",
       "      <td>Blouses</td>\n",
       "    </tr>\n",
       "    <tr>\n",
       "      <th>1</th>\n",
       "      <td>1</td>\n",
       "      <td>1080</td>\n",
       "      <td>34</td>\n",
       "      <td>NaN</td>\n",
       "      <td>Love this dress!  it's sooo pretty.  i happene...</td>\n",
       "      <td>5</td>\n",
       "      <td>1</td>\n",
       "      <td>4</td>\n",
       "      <td>General</td>\n",
       "      <td>Dresses</td>\n",
       "      <td>Dresses</td>\n",
       "    </tr>\n",
       "    <tr>\n",
       "      <th>2</th>\n",
       "      <td>2</td>\n",
       "      <td>1077</td>\n",
       "      <td>60</td>\n",
       "      <td>Some major design flaws</td>\n",
       "      <td>I had such high hopes for this dress and reall...</td>\n",
       "      <td>3</td>\n",
       "      <td>0</td>\n",
       "      <td>0</td>\n",
       "      <td>General</td>\n",
       "      <td>Dresses</td>\n",
       "      <td>Dresses</td>\n",
       "    </tr>\n",
       "    <tr>\n",
       "      <th>3</th>\n",
       "      <td>3</td>\n",
       "      <td>1049</td>\n",
       "      <td>50</td>\n",
       "      <td>My favorite buy!</td>\n",
       "      <td>I love  love  love this jumpsuit. it's fun  fl...</td>\n",
       "      <td>5</td>\n",
       "      <td>1</td>\n",
       "      <td>0</td>\n",
       "      <td>General Petite</td>\n",
       "      <td>Bottoms</td>\n",
       "      <td>Pants</td>\n",
       "    </tr>\n",
       "    <tr>\n",
       "      <th>4</th>\n",
       "      <td>4</td>\n",
       "      <td>847</td>\n",
       "      <td>47</td>\n",
       "      <td>Flattering shirt</td>\n",
       "      <td>This shirt is very flattering to all due to th...</td>\n",
       "      <td>5</td>\n",
       "      <td>1</td>\n",
       "      <td>6</td>\n",
       "      <td>General</td>\n",
       "      <td>Tops</td>\n",
       "      <td>Blouses</td>\n",
       "    </tr>\n",
       "  </tbody>\n",
       "</table>\n",
       "</div>"
      ],
      "text/plain": [
       "   Unnamed: 0  Clothing ID  Age                    Title  \\\n",
       "0           0          847   33        Cute, crisp shirt   \n",
       "1           1         1080   34                      NaN   \n",
       "2           2         1077   60  Some major design flaws   \n",
       "3           3         1049   50         My favorite buy!   \n",
       "4           4          847   47         Flattering shirt   \n",
       "\n",
       "                                         Review Text  Rating  Recommended IND  \\\n",
       "0  If this product was in petite  i would get the...       4                1   \n",
       "1  Love this dress!  it's sooo pretty.  i happene...       5                1   \n",
       "2  I had such high hopes for this dress and reall...       3                0   \n",
       "3  I love  love  love this jumpsuit. it's fun  fl...       5                1   \n",
       "4  This shirt is very flattering to all due to th...       5                1   \n",
       "\n",
       "   Positive Feedback Count   Division Name Department Name Class Name  \n",
       "0                        2         General            Tops    Blouses  \n",
       "1                        4         General         Dresses    Dresses  \n",
       "2                        0         General         Dresses    Dresses  \n",
       "3                        0  General Petite         Bottoms      Pants  \n",
       "4                        6         General            Tops    Blouses  "
      ]
     },
     "execution_count": 3,
     "metadata": {},
     "output_type": "execute_result"
    }
   ],
   "source": [
    "data = pd.read_csv(\"./data/raw_data/womens_clothing_ecommerce_reviews.csv\")\n",
    "data.head()"
   ]
  },
  {
   "cell_type": "code",
   "execution_count": 4,
   "metadata": {},
   "outputs": [
    {
     "name": "stdout",
     "output_type": "stream",
     "text": [
      "<class 'pandas.core.frame.DataFrame'>\n",
      "RangeIndex: 23486 entries, 0 to 23485\n",
      "Data columns (total 11 columns):\n",
      " #   Column                   Non-Null Count  Dtype \n",
      "---  ------                   --------------  ----- \n",
      " 0   Unnamed: 0               23486 non-null  int64 \n",
      " 1   Clothing ID              23486 non-null  int64 \n",
      " 2   Age                      23486 non-null  int64 \n",
      " 3   Title                    19676 non-null  object\n",
      " 4   Review Text              22641 non-null  object\n",
      " 5   Rating                   23486 non-null  int64 \n",
      " 6   Recommended IND          23486 non-null  int64 \n",
      " 7   Positive Feedback Count  23486 non-null  int64 \n",
      " 8   Division Name            23472 non-null  object\n",
      " 9   Department Name          23472 non-null  object\n",
      " 10  Class Name               23472 non-null  object\n",
      "dtypes: int64(6), object(5)\n",
      "memory usage: 2.0+ MB\n"
     ]
    }
   ],
   "source": [
    "data.info()"
   ]
  },
  {
   "cell_type": "code",
   "execution_count": 5,
   "metadata": {},
   "outputs": [
    {
     "data": {
      "text/html": [
       "<div>\n",
       "<style scoped>\n",
       "    .dataframe tbody tr th:only-of-type {\n",
       "        vertical-align: middle;\n",
       "    }\n",
       "\n",
       "    .dataframe tbody tr th {\n",
       "        vertical-align: top;\n",
       "    }\n",
       "\n",
       "    .dataframe thead th {\n",
       "        text-align: right;\n",
       "    }\n",
       "</style>\n",
       "<table border=\"1\" class=\"dataframe\">\n",
       "  <thead>\n",
       "    <tr style=\"text-align: right;\">\n",
       "      <th></th>\n",
       "      <th>Unnamed: 0</th>\n",
       "      <th>Clothing ID</th>\n",
       "      <th>Age</th>\n",
       "      <th>Rating</th>\n",
       "      <th>Recommended IND</th>\n",
       "      <th>Positive Feedback Count</th>\n",
       "    </tr>\n",
       "  </thead>\n",
       "  <tbody>\n",
       "    <tr>\n",
       "      <th>count</th>\n",
       "      <td>23486.000000</td>\n",
       "      <td>23486.000000</td>\n",
       "      <td>23486.000000</td>\n",
       "      <td>23486.000000</td>\n",
       "      <td>23486.000000</td>\n",
       "      <td>23486.000000</td>\n",
       "    </tr>\n",
       "    <tr>\n",
       "      <th>mean</th>\n",
       "      <td>11742.500000</td>\n",
       "      <td>918.118709</td>\n",
       "      <td>43.198544</td>\n",
       "      <td>4.196032</td>\n",
       "      <td>0.822362</td>\n",
       "      <td>2.535936</td>\n",
       "    </tr>\n",
       "    <tr>\n",
       "      <th>std</th>\n",
       "      <td>6779.968547</td>\n",
       "      <td>203.298980</td>\n",
       "      <td>12.279544</td>\n",
       "      <td>1.110031</td>\n",
       "      <td>0.382216</td>\n",
       "      <td>5.702202</td>\n",
       "    </tr>\n",
       "    <tr>\n",
       "      <th>min</th>\n",
       "      <td>0.000000</td>\n",
       "      <td>0.000000</td>\n",
       "      <td>18.000000</td>\n",
       "      <td>1.000000</td>\n",
       "      <td>0.000000</td>\n",
       "      <td>0.000000</td>\n",
       "    </tr>\n",
       "    <tr>\n",
       "      <th>25%</th>\n",
       "      <td>5871.250000</td>\n",
       "      <td>861.000000</td>\n",
       "      <td>34.000000</td>\n",
       "      <td>4.000000</td>\n",
       "      <td>1.000000</td>\n",
       "      <td>0.000000</td>\n",
       "    </tr>\n",
       "    <tr>\n",
       "      <th>50%</th>\n",
       "      <td>11742.500000</td>\n",
       "      <td>936.000000</td>\n",
       "      <td>41.000000</td>\n",
       "      <td>5.000000</td>\n",
       "      <td>1.000000</td>\n",
       "      <td>1.000000</td>\n",
       "    </tr>\n",
       "    <tr>\n",
       "      <th>75%</th>\n",
       "      <td>17613.750000</td>\n",
       "      <td>1078.000000</td>\n",
       "      <td>52.000000</td>\n",
       "      <td>5.000000</td>\n",
       "      <td>1.000000</td>\n",
       "      <td>3.000000</td>\n",
       "    </tr>\n",
       "    <tr>\n",
       "      <th>max</th>\n",
       "      <td>23485.000000</td>\n",
       "      <td>1205.000000</td>\n",
       "      <td>99.000000</td>\n",
       "      <td>5.000000</td>\n",
       "      <td>1.000000</td>\n",
       "      <td>122.000000</td>\n",
       "    </tr>\n",
       "  </tbody>\n",
       "</table>\n",
       "</div>"
      ],
      "text/plain": [
       "         Unnamed: 0   Clothing ID           Age        Rating  \\\n",
       "count  23486.000000  23486.000000  23486.000000  23486.000000   \n",
       "mean   11742.500000    918.118709     43.198544      4.196032   \n",
       "std     6779.968547    203.298980     12.279544      1.110031   \n",
       "min        0.000000      0.000000     18.000000      1.000000   \n",
       "25%     5871.250000    861.000000     34.000000      4.000000   \n",
       "50%    11742.500000    936.000000     41.000000      5.000000   \n",
       "75%    17613.750000   1078.000000     52.000000      5.000000   \n",
       "max    23485.000000   1205.000000     99.000000      5.000000   \n",
       "\n",
       "       Recommended IND  Positive Feedback Count  \n",
       "count     23486.000000             23486.000000  \n",
       "mean          0.822362                 2.535936  \n",
       "std           0.382216                 5.702202  \n",
       "min           0.000000                 0.000000  \n",
       "25%           1.000000                 0.000000  \n",
       "50%           1.000000                 1.000000  \n",
       "75%           1.000000                 3.000000  \n",
       "max           1.000000               122.000000  "
      ]
     },
     "execution_count": 5,
     "metadata": {},
     "output_type": "execute_result"
    }
   ],
   "source": [
    "data.describe()"
   ]
  },
  {
   "cell_type": "markdown",
   "metadata": {},
   "source": [
    "We will be using the `Review Text`  Column to generate the inputs for sentiment analysis and the `Rating` column to find the sentiment of eah review. \n",
    "Additionally, the `Class Name` column will be used to balance the dataset.\n",
    "As a result, we only keep these columns for further analysis.\n",
    "\n",
    "Also, since the names of these colmns are not easy to use prorammatically, the columns will be renamed to more proper names.\n",
    "Products with lower than 10 reviews will also be removed as they don't have enough reviews to be inclluded"
   ]
  },
  {
   "cell_type": "code",
   "execution_count": 6,
   "metadata": {},
   "outputs": [],
   "source": [
    "data_transformed =  data[[\"Review Text\", \"Rating\", \"Class Name\"]].copy()\n",
    "data_transformed.rename(columns = {\"Review Text\":'review', \"Rating\":\"rating\", \"Class Name\":\"product_category\"}, inplace = True)\n",
    "data_transformed.dropna(inplace = True)"
   ]
  },
  {
   "cell_type": "code",
   "execution_count": 7,
   "metadata": {},
   "outputs": [
    {
     "data": {
      "text/plain": [
       "product_category\n",
       "Blouses           2983\n",
       "Casual bottoms       1\n",
       "Chemises             1\n",
       "Dresses           6145\n",
       "Fine gauge        1059\n",
       "Intimates          147\n",
       "Jackets            683\n",
       "Jeans             1104\n",
       "Knits             4626\n",
       "Layering           132\n",
       "Legwear            158\n",
       "Lounge             669\n",
       "Outerwear          319\n",
       "Pants             1350\n",
       "Shorts             304\n",
       "Skirts             903\n",
       "Sleep              214\n",
       "Sweaters          1380\n",
       "Swim               332\n",
       "Trend              118\n",
       "dtype: int64"
      ]
     },
     "execution_count": 7,
     "metadata": {},
     "output_type": "execute_result"
    }
   ],
   "source": [
    "data_transformed.groupby(\"product_category\").size()"
   ]
  },
  {
   "cell_type": "markdown",
   "metadata": {},
   "source": [
    "Obviously, there is a significant imbalance between the number of reviews for different product categories, let' remove products that have less than 10 reviews to make the dataset a bit more balanced. "
   ]
  },
  {
   "cell_type": "code",
   "execution_count": 8,
   "metadata": {},
   "outputs": [],
   "source": [
    "data_transformed  = data_transformed.groupby(\"product_category\").filter(lambda review: len(review) > 10)"
   ]
  },
  {
   "cell_type": "markdown",
   "metadata": {},
   "source": [
    "We would like to use the data to train a sentiminet analyzer, the rating column could be used to assign a sentiment to each review.The following policy is used to assign a sentiment to each review:\n",
    "- 1 <= rating <= 2 ==> Negative with a class value of 0 \n",
    "- rating = 3 ==> Neutral with a class value of 1\n",
    "- 3 < rating ==> Positive with a class value of -1 "
   ]
  },
  {
   "cell_type": "code",
   "execution_count": 9,
   "metadata": {},
   "outputs": [],
   "source": [
    "def rating_to_sentiment(rating):\n",
    "    if rating in {1, 2}:\n",
    "        return 0\n",
    "    elif rating == 3:\n",
    "        return 1\n",
    "    else:\n",
    "        return 2\n",
    "\n",
    "data_transformed[\"sentiment\"] = data_transformed[\"rating\"].apply(lambda rating: rating_to_sentiment(rating))\n",
    "data_transformed.drop(columns = \"rating\", inplace = True)"
   ]
  },
  {
   "cell_type": "code",
   "execution_count": 10,
   "metadata": {},
   "outputs": [
    {
     "data": {
      "text/html": [
       "<div>\n",
       "<style scoped>\n",
       "    .dataframe tbody tr th:only-of-type {\n",
       "        vertical-align: middle;\n",
       "    }\n",
       "\n",
       "    .dataframe tbody tr th {\n",
       "        vertical-align: top;\n",
       "    }\n",
       "\n",
       "    .dataframe thead th {\n",
       "        text-align: right;\n",
       "    }\n",
       "</style>\n",
       "<table border=\"1\" class=\"dataframe\">\n",
       "  <thead>\n",
       "    <tr style=\"text-align: right;\">\n",
       "      <th></th>\n",
       "      <th>review</th>\n",
       "      <th>product_category</th>\n",
       "      <th>sentiment</th>\n",
       "    </tr>\n",
       "  </thead>\n",
       "  <tbody>\n",
       "    <tr>\n",
       "      <th>0</th>\n",
       "      <td>If this product was in petite  i would get the...</td>\n",
       "      <td>Blouses</td>\n",
       "      <td>2</td>\n",
       "    </tr>\n",
       "    <tr>\n",
       "      <th>1</th>\n",
       "      <td>Love this dress!  it's sooo pretty.  i happene...</td>\n",
       "      <td>Dresses</td>\n",
       "      <td>2</td>\n",
       "    </tr>\n",
       "    <tr>\n",
       "      <th>2</th>\n",
       "      <td>I had such high hopes for this dress and reall...</td>\n",
       "      <td>Dresses</td>\n",
       "      <td>1</td>\n",
       "    </tr>\n",
       "    <tr>\n",
       "      <th>3</th>\n",
       "      <td>I love  love  love this jumpsuit. it's fun  fl...</td>\n",
       "      <td>Pants</td>\n",
       "      <td>2</td>\n",
       "    </tr>\n",
       "    <tr>\n",
       "      <th>4</th>\n",
       "      <td>This shirt is very flattering to all due to th...</td>\n",
       "      <td>Blouses</td>\n",
       "      <td>2</td>\n",
       "    </tr>\n",
       "  </tbody>\n",
       "</table>\n",
       "</div>"
      ],
      "text/plain": [
       "                                              review product_category  \\\n",
       "0  If this product was in petite  i would get the...          Blouses   \n",
       "1  Love this dress!  it's sooo pretty.  i happene...          Dresses   \n",
       "2  I had such high hopes for this dress and reall...          Dresses   \n",
       "3  I love  love  love this jumpsuit. it's fun  fl...            Pants   \n",
       "4  This shirt is very flattering to all due to th...          Blouses   \n",
       "\n",
       "   sentiment  \n",
       "0          2  \n",
       "1          2  \n",
       "2          1  \n",
       "3          2  \n",
       "4          2  "
      ]
     },
     "execution_count": 10,
     "metadata": {},
     "output_type": "execute_result"
    }
   ],
   "source": [
    "data_transformed.to_csv(\"./data/raw_data/womens_clothing_ecommerce_reviews_transformed.csv\", index = False)\n",
    "data_transformed.head()\n"
   ]
  },
  {
   "cell_type": "markdown",
   "metadata": {},
   "source": [
    "# Balancing the Dataset"
   ]
  },
  {
   "cell_type": "code",
   "execution_count": 11,
   "metadata": {},
   "outputs": [],
   "source": [
    "data_transformed = pd.read_csv(\"./data/raw_data/womens_clothing_ecommerce_reviews_transformed.csv\")"
   ]
  },
  {
   "cell_type": "markdown",
   "metadata": {},
   "source": [
    "Since this is a classifier, the dataset should not be biased. The bias we are interested in could present itself in two ways:\n",
    "- Number of reviews for each sentiment : We want the classifier to see the same number of reviews with different sentiments, if the model is trained on a dataset with more positive sentiments, then it might be overfitted to positive reviews and might not work well for neutral and negative reviews.\n",
    "- Number of reviews for each product category : The balance in the number of reviews for each product category is also important. Product category has a significant impact on which words the classifier sees more and associates to the sentiments.\n",
    "\n",
    "Let's have a look at how balanced the dataset is now."
   ]
  },
  {
   "cell_type": "code",
   "execution_count": 12,
   "metadata": {},
   "outputs": [
    {
     "data": {
      "text/plain": [
       "Text(0.5, 1.0, 'Number of Reviews by Sentiment')"
      ]
     },
     "execution_count": 12,
     "metadata": {},
     "output_type": "execute_result"
    },
    {
     "data": {
      "image/png": "[encoded data removed]",
      "text/plain": [
       "<Figure size 640x480 with 1 Axes>"
      ]
     },
     "metadata": {},
     "output_type": "display_data"
    },
    {
     "data": {
      "image/png": "[encoded data removed]",
      "text/plain": [
       "<Figure size 640x480 with 1 Axes>"
      ]
     },
     "metadata": {},
     "output_type": "display_data"
    }
   ],
   "source": [
    "data_transformed_grouped = data_transformed.groupby([\"sentiment\", \"product_category\"], as_index=False).size()\n",
    "data_transformed_grouped.rename(columns = {\"size\":\"count\"}, inplace=True)\n",
    "# Plotting the number of reviews for each setiment and idfferent product categories\n",
    "sns.barplot(x = data_transformed_grouped[\"sentiment\"], y = data_transformed_grouped[\"count\"],\\\n",
    "        hue = data_transformed_grouped[\"product_category\"], palette = 'bright')\n",
    "plt.legend(bbox_to_anchor=(1.3, 1.05), loc='upper right')\n",
    "plt.title(\"Number of Reviews by Sentiment and Product Category\")\n",
    "# Plotting the number of reviews for each setiment and idfferent product categories\n",
    "plt.figure()\n",
    "sns.barplot(x = data_transformed_grouped[\"sentiment\"], y = data_transformed_grouped[\"count\"], errorbar = None)\n",
    "plt.title(\"Number of Reviews by Sentiment\")"
   ]
  },
  {
   "cell_type": "markdown",
   "metadata": {},
   "source": [
    "In order to make the dataset more balanced for both product category and seniment:"
   ]
  },
  {
   "cell_type": "code",
   "execution_count": 13,
   "metadata": {},
   "outputs": [
    {
     "data": {
      "text/html": [
       "<div>\n",
       "<style scoped>\n",
       "    .dataframe tbody tr th:only-of-type {\n",
       "        vertical-align: middle;\n",
       "    }\n",
       "\n",
       "    .dataframe tbody tr th {\n",
       "        vertical-align: top;\n",
       "    }\n",
       "\n",
       "    .dataframe thead th {\n",
       "        text-align: right;\n",
       "    }\n",
       "</style>\n",
       "<table border=\"1\" class=\"dataframe\">\n",
       "  <thead>\n",
       "    <tr style=\"text-align: right;\">\n",
       "      <th></th>\n",
       "      <th>review</th>\n",
       "      <th>sentiment</th>\n",
       "      <th>product_category</th>\n",
       "    </tr>\n",
       "  </thead>\n",
       "  <tbody>\n",
       "    <tr>\n",
       "      <th>0</th>\n",
       "      <td>Beautiful print  however as the previous revie...</td>\n",
       "      <td>0</td>\n",
       "      <td>Blouses</td>\n",
       "    </tr>\n",
       "    <tr>\n",
       "      <th>1</th>\n",
       "      <td>I really wanted to like this but the fit was j...</td>\n",
       "      <td>0</td>\n",
       "      <td>Blouses</td>\n",
       "    </tr>\n",
       "    <tr>\n",
       "      <th>2</th>\n",
       "      <td>The cut of this piece is great  the quality of...</td>\n",
       "      <td>0</td>\n",
       "      <td>Blouses</td>\n",
       "    </tr>\n",
       "    <tr>\n",
       "      <th>3</th>\n",
       "      <td>Looks great on the photo and from previous rev...</td>\n",
       "      <td>0</td>\n",
       "      <td>Blouses</td>\n",
       "    </tr>\n",
       "    <tr>\n",
       "      <th>4</th>\n",
       "      <td>Sleeves were tight  was difficult to put on ?....</td>\n",
       "      <td>0</td>\n",
       "      <td>Blouses</td>\n",
       "    </tr>\n",
       "    <tr>\n",
       "      <th>...</th>\n",
       "      <td>...</td>\n",
       "      <td>...</td>\n",
       "      <td>...</td>\n",
       "    </tr>\n",
       "    <tr>\n",
       "      <th>481</th>\n",
       "      <td>This dress did not disappoint. it fits great. ...</td>\n",
       "      <td>2</td>\n",
       "      <td>Trend</td>\n",
       "    </tr>\n",
       "    <tr>\n",
       "      <th>482</th>\n",
       "      <td>Dress is beautiful in person  light material t...</td>\n",
       "      <td>2</td>\n",
       "      <td>Trend</td>\n",
       "    </tr>\n",
       "    <tr>\n",
       "      <th>483</th>\n",
       "      <td>I read some of the other reviews and was surpr...</td>\n",
       "      <td>2</td>\n",
       "      <td>Trend</td>\n",
       "    </tr>\n",
       "    <tr>\n",
       "      <th>484</th>\n",
       "      <td>I got this dress for my younger sister who's i...</td>\n",
       "      <td>2</td>\n",
       "      <td>Trend</td>\n",
       "    </tr>\n",
       "    <tr>\n",
       "      <th>485</th>\n",
       "      <td>Swing dresses are the holy grail of comfort. w...</td>\n",
       "      <td>2</td>\n",
       "      <td>Trend</td>\n",
       "    </tr>\n",
       "  </tbody>\n",
       "</table>\n",
       "<p>486 rows × 3 columns</p>\n",
       "</div>"
      ],
      "text/plain": [
       "                                                review  sentiment  \\\n",
       "0    Beautiful print  however as the previous revie...          0   \n",
       "1    I really wanted to like this but the fit was j...          0   \n",
       "2    The cut of this piece is great  the quality of...          0   \n",
       "3    Looks great on the photo and from previous rev...          0   \n",
       "4    Sleeves were tight  was difficult to put on ?....          0   \n",
       "..                                                 ...        ...   \n",
       "481  This dress did not disappoint. it fits great. ...          2   \n",
       "482  Dress is beautiful in person  light material t...          2   \n",
       "483  I read some of the other reviews and was surpr...          2   \n",
       "484  I got this dress for my younger sister who's i...          2   \n",
       "485  Swing dresses are the holy grail of comfort. w...          2   \n",
       "\n",
       "    product_category  \n",
       "0            Blouses  \n",
       "1            Blouses  \n",
       "2            Blouses  \n",
       "3            Blouses  \n",
       "4            Blouses  \n",
       "..               ...  \n",
       "481            Trend  \n",
       "482            Trend  \n",
       "483            Trend  \n",
       "484            Trend  \n",
       "485            Trend  \n",
       "\n",
       "[486 rows x 3 columns]"
      ]
     },
     "execution_count": 13,
     "metadata": {},
     "output_type": "execute_result"
    }
   ],
   "source": [
    "data_transformed_grouped_for_balance = data_transformed.groupby([\"sentiment\", \"product_category\"])[[\"review\",\"sentiment\", \"product_category\"]]\n",
    "data_transformed_balanced_both = data_transformed_grouped_for_balance.apply(lambda x: \\\n",
    "                                x.sample(data_transformed.groupby([\"sentiment\", \"product_category\"]).size().min()))\\\n",
    "                                .reset_index(drop = True)\n",
    "data_transformed_balanced_both"
   ]
  },
  {
   "cell_type": "markdown",
   "metadata": {},
   "source": [
    "Now let's see if the dataset is balanced:"
   ]
  },
  {
   "cell_type": "code",
   "execution_count": 14,
   "metadata": {},
   "outputs": [
    {
     "name": "stdout",
     "output_type": "stream",
     "text": [
      "The total number of reviews in the balanced dataset:486\n"
     ]
    },
    {
     "data": {
      "image/png": "[encoded data removed]",
      "text/plain": [
       "<Figure size 640x480 with 1 Axes>"
      ]
     },
     "metadata": {},
     "output_type": "display_data"
    }
   ],
   "source": [
    "data_transformed_balanced_both_grouped = data_transformed_balanced_both.groupby([\"sentiment\", \"product_category\"], as_index = False).size()\n",
    "data_transformed_balanced_both_grouped.rename(columns = {\"size\":\"count\"}, inplace=True)\n",
    "# Plotting the number of reviews for each setiment and idfferent product categories\n",
    "sns.barplot(x = data_transformed_balanced_both_grouped[\"sentiment\"], y = data_transformed_balanced_both_grouped[\"count\"],\\\n",
    "        hue = data_transformed_balanced_both_grouped[\"product_category\"], palette = 'bright')\n",
    "plt.legend(bbox_to_anchor=(1.3, 1.05), loc='upper right')\n",
    "plt.title(\"Number of Reviews by Sentiment and Product Category\")\n",
    "print(f\"The total number of reviews in the balanced dataset:{data_transformed_balanced_both.shape[0]}\")"
   ]
  },
  {
   "cell_type": "markdown",
   "metadata": {},
   "source": [
    "The datset is now balanced, but we have lost almost all of our data. Since we care about the size of our dataset more than the class balance of product categories we will not balance the dataset based on the product category and will only be balancing the dataset based on the sentiments."
   ]
  },
  {
   "cell_type": "code",
   "execution_count": 15,
   "metadata": {},
   "outputs": [
    {
     "data": {
      "text/html": [
       "<div>\n",
       "<style scoped>\n",
       "    .dataframe tbody tr th:only-of-type {\n",
       "        vertical-align: middle;\n",
       "    }\n",
       "\n",
       "    .dataframe tbody tr th {\n",
       "        vertical-align: top;\n",
       "    }\n",
       "\n",
       "    .dataframe thead th {\n",
       "        text-align: right;\n",
       "    }\n",
       "</style>\n",
       "<table border=\"1\" class=\"dataframe\">\n",
       "  <thead>\n",
       "    <tr style=\"text-align: right;\">\n",
       "      <th></th>\n",
       "      <th>review</th>\n",
       "      <th>sentiment</th>\n",
       "      <th>product_category</th>\n",
       "    </tr>\n",
       "  </thead>\n",
       "  <tbody>\n",
       "    <tr>\n",
       "      <th>0</th>\n",
       "      <td>This looks cute in the web photo  unfortunatel...</td>\n",
       "      <td>0</td>\n",
       "      <td>Knits</td>\n",
       "    </tr>\n",
       "    <tr>\n",
       "      <th>1</th>\n",
       "      <td>I loved this shirt when i got it. it fit perfe...</td>\n",
       "      <td>0</td>\n",
       "      <td>Knits</td>\n",
       "    </tr>\n",
       "    <tr>\n",
       "      <th>2</th>\n",
       "      <td>Oh what a disappointment! i was looking forwar...</td>\n",
       "      <td>0</td>\n",
       "      <td>Lounge</td>\n",
       "    </tr>\n",
       "    <tr>\n",
       "      <th>3</th>\n",
       "      <td>I might be the only odd person out there who t...</td>\n",
       "      <td>0</td>\n",
       "      <td>Jackets</td>\n",
       "    </tr>\n",
       "    <tr>\n",
       "      <th>4</th>\n",
       "      <td>Wanted to like this top but it looks terrible ...</td>\n",
       "      <td>0</td>\n",
       "      <td>Blouses</td>\n",
       "    </tr>\n",
       "    <tr>\n",
       "      <th>...</th>\n",
       "      <td>...</td>\n",
       "      <td>...</td>\n",
       "      <td>...</td>\n",
       "    </tr>\n",
       "    <tr>\n",
       "      <th>7105</th>\n",
       "      <td>This pair of flare is just what i have been se...</td>\n",
       "      <td>2</td>\n",
       "      <td>Jeans</td>\n",
       "    </tr>\n",
       "    <tr>\n",
       "      <th>7106</th>\n",
       "      <td>Such a beautiful dress with my favorite print!...</td>\n",
       "      <td>2</td>\n",
       "      <td>Dresses</td>\n",
       "    </tr>\n",
       "    <tr>\n",
       "      <th>7107</th>\n",
       "      <td>This is a very pretty dress and looks just as ...</td>\n",
       "      <td>2</td>\n",
       "      <td>Dresses</td>\n",
       "    </tr>\n",
       "    <tr>\n",
       "      <th>7108</th>\n",
       "      <td>I saw this initially in the store and thought ...</td>\n",
       "      <td>2</td>\n",
       "      <td>Outerwear</td>\n",
       "    </tr>\n",
       "    <tr>\n",
       "      <th>7109</th>\n",
       "      <td>I am normally a medium and i would take an xs ...</td>\n",
       "      <td>2</td>\n",
       "      <td>Knits</td>\n",
       "    </tr>\n",
       "  </tbody>\n",
       "</table>\n",
       "<p>7110 rows × 3 columns</p>\n",
       "</div>"
      ],
      "text/plain": [
       "                                                 review  sentiment  \\\n",
       "0     This looks cute in the web photo  unfortunatel...          0   \n",
       "1     I loved this shirt when i got it. it fit perfe...          0   \n",
       "2     Oh what a disappointment! i was looking forwar...          0   \n",
       "3     I might be the only odd person out there who t...          0   \n",
       "4     Wanted to like this top but it looks terrible ...          0   \n",
       "...                                                 ...        ...   \n",
       "7105  This pair of flare is just what i have been se...          2   \n",
       "7106  Such a beautiful dress with my favorite print!...          2   \n",
       "7107  This is a very pretty dress and looks just as ...          2   \n",
       "7108  I saw this initially in the store and thought ...          2   \n",
       "7109  I am normally a medium and i would take an xs ...          2   \n",
       "\n",
       "     product_category  \n",
       "0               Knits  \n",
       "1               Knits  \n",
       "2              Lounge  \n",
       "3             Jackets  \n",
       "4             Blouses  \n",
       "...               ...  \n",
       "7105            Jeans  \n",
       "7106          Dresses  \n",
       "7107          Dresses  \n",
       "7108        Outerwear  \n",
       "7109            Knits  \n",
       "\n",
       "[7110 rows x 3 columns]"
      ]
     },
     "execution_count": 15,
     "metadata": {},
     "output_type": "execute_result"
    }
   ],
   "source": [
    "data_transformed_grouped_for_balance = data_transformed.groupby([\"sentiment\"])[[\"review\",\"sentiment\", \"product_category\"]]\n",
    "data_transformed_balanced = data_transformed_grouped_for_balance.apply(lambda x: \\\n",
    "                                x.sample(data_transformed.groupby([\"sentiment\"]).size().min()))\\\n",
    "                                .reset_index(drop = True)\n",
    "data_transformed_balanced"
   ]
  },
  {
   "cell_type": "code",
   "execution_count": 16,
   "metadata": {},
   "outputs": [
    {
     "name": "stdout",
     "output_type": "stream",
     "text": [
      "The total number of reviews in the balanced dataset:7110\n"
     ]
    },
    {
     "data": {
      "image/png": "[encoded data removed]",
      "text/plain": [
       "<Figure size 640x480 with 1 Axes>"
      ]
     },
     "metadata": {},
     "output_type": "display_data"
    }
   ],
   "source": [
    "data_transformed_balanced_grouped = data_transformed_balanced.groupby([\"sentiment\", \"product_category\"], as_index = False).size()\n",
    "data_transformed_balanced_grouped.rename(columns = {\"size\":\"count\"}, inplace=True)\n",
    "\n",
    "# Plotting the number of reviews for each setiment and idfferent product categories\n",
    "plt.figure()\n",
    "sns.barplot(x = data_transformed_balanced_grouped[\"sentiment\"], y = data_transformed_balanced_grouped[\"count\"], errorbar = None)\n",
    "plt.title(\"Number of Reviews by Sentiment\")\n",
    "\n",
    "print(f\"The total number of reviews in the balanced dataset:{data_transformed_balanced.shape[0]}\")"
   ]
  },
  {
   "cell_type": "markdown",
   "metadata": {},
   "source": [
    "The dataset is balanced now and we have enough data to train our model. So we save the data and move on to the next step which is the preparation of the data for our NLP task.\n",
    "But before we move on to the next stage, let's divide the dataset into training, validation and test sets. "
   ]
  },
  {
   "cell_type": "code",
   "execution_count": 17,
   "metadata": {},
   "outputs": [],
   "source": [
    "data_transformed_balanced.to_csv(\"./data/raw_data/womens_clothing_ecommerce_reviews_balanced.csv\", index = False)\n",
    "\n",
    "if \"training\" not in os.listdir(\"./data\"):\n",
    "    os.mkdir(\"./data/training\")\n",
    "\n",
    "if \"validation\" not in os.listdir(\"./data\"):\n",
    "    os.mkdir(\"./data/validation\")\n",
    "\n",
    "if \"test\" not in os.listdir(\"./data\"):\n",
    "    os.mkdir(\"./data/test\")\n",
    "\n",
    "training_data, temp_data = train_test_split(data_transformed_balanced, test_size = 0.3, random_state = 5)\n",
    "validation_data, test_data = train_test_split(temp_data, test_size = 0.33, random_state = 5)\n",
    "\n",
    "training_data.to_csv(\"./data/training/womens_clothing_ecommerce_reviews_balanced_training.csv\", index = False)\n",
    "validation_data.to_csv(\"./data/validation/womens_clothing_ecommerce_reviews_balanced_validation\", index = False)\n",
    "test_data.to_csv(\"./data/test/womens_clothing_ecommerce_reviews_balanced_test\", index = False)\n"
   ]
  },
  {
   "cell_type": "markdown",
   "metadata": {},
   "source": [
    "# Preprocessing the Data for NLP Task"
   ]
  },
  {
   "cell_type": "code",
   "execution_count": 18,
   "metadata": {},
   "outputs": [],
   "source": [
    "training_data = pd.read_csv(\"./data/training/womens_clothing_ecommerce_reviews_balanced_training.csv\")\n",
    "validation_data = pd.read_csv(\"./data/validation/womens_clothing_ecommerce_reviews_balanced_validation\")\n",
    "test_data = pd.read_csv(\"./data/test/womens_clothing_ecommerce_reviews_balanced_test\")"
   ]
  },
  {
   "cell_type": "markdown",
   "metadata": {},
   "source": [
    "As is required in any NLP task, we start with creating a vocabiulary from the training and validation sets. To do this let's first read all of the review texts from the training data and save it as a text corpus."
   ]
  },
  {
   "cell_type": "code",
   "execution_count": 19,
   "metadata": {},
   "outputs": [
    {
     "name": "stdout",
     "output_type": "stream",
     "text": [
      "This is the perfect dress! for summer  fall  winter or spring  it is flattering and looks cute with booties  flip flops  brogues or barefoot! runs a teeny bit large - i wear a small to medium and the small is perfect! i might just buy the other color it comes in!!!!\n",
      "I purchased this about a month ag\n"
     ]
    }
   ],
   "source": [
    "# Creating a text corpus from the training data\n",
    "corpus_data = pd.concat([training_data[\"review\"], validation_data[\"review\"]], axis = 0)\n",
    "corpus = '\\n'.join(training_data[\"review\"].values)\n",
    "\n",
    "with open(\"./data/corpus.txt\", \"w\") as file:\n",
    "    file.write(corpus)\n",
    "\n",
    "print(corpus[0:300])"
   ]
  },
  {
   "cell_type": "markdown",
   "metadata": {},
   "source": [
    "Now we tookenize the corpus to extract meaningful language tokens (mostly words) and create a vocabulary. We also need to process the resulting tokens as well. For intance, we will be removing characters that do not add to the sentiment of the text or tokens that are not repeated enough in the corpus. This helps us keep the number of words in our vocabulary down. "
   ]
  },
  {
   "cell_type": "code",
   "execution_count": 20,
   "metadata": {},
   "outputs": [],
   "source": [
    "def cleanup_text(text):\n",
    "    text = text.lower()\n",
    "    text = re.sub(r\"[^a-z.?!:)( \\n]+\", \"\", text)\n",
    "    text = re.sub(r\"\\.{2,}\", \".\", text)\n",
    "    text = re.sub(r\"\\.{2,}\", \"!\", text)\n",
    "    text = re.sub(r\"\\.{2,}\", \"?\", text)\n",
    "    text = re.sub(r\"\\.{2,}\", \")\", text)\n",
    "    text = re.sub(r\"\\.{2,}\", \"(\", text)\n",
    "    text = re.sub(r\"\\.{2,}\", \":\", text)\n",
    "    return text\n",
    "\n",
    "def create_vocab(text, tokenizer, unk_token, pad_token):\n",
    "    tokenized_text = tokenizer(text)\n",
    "    token_freqs = Counter(tokenized_text)\n",
    "    vocabulary = vocab(token_freqs, min_freq = 10, specials = [pad_token, unk_token])\n",
    "    vocabulary.set_default_index(1)\n",
    "    return vocabulary\n",
    "\n",
    "def process_reviews(review, tokenizer, vocabulary, max_len):\n",
    "    review_cleaned = cleanup_text(review)\n",
    "    review_tokenized = tokenizer(review_cleaned)\n",
    "    review_processed = vocabulary(review_tokenized)\n",
    "    if len(review_processed) < max_len:\n",
    "        review_processed.extend([0] * (max_len - len(review_processed)))\n",
    "    elif len(review_processed) > max_len:\n",
    "        review_processed = review_processed[:max_len]\n",
    "    return review_processed\n",
    "    "
   ]
  },
  {
   "cell_type": "code",
   "execution_count": 21,
   "metadata": {},
   "outputs": [],
   "source": [
    "corpus_cleaned = cleanup_text(corpus)\n",
    "vocabulary = create_vocab(corpus_cleaned, word_tokenize, \"<unk>\", \"<pad>\")\n",
    "torch.save(vocabulary, './models/vocabulary.pth')\n",
    "\n",
    "\n",
    "training_data[\"review_processed\"] = training_data[\"review\"].apply(lambda x: process_reviews(x, word_tokenize, vocabulary, 500))\n",
    "validation_data[\"review_processed\"] = validation_data[\"review\"].apply(lambda x: process_reviews(x, word_tokenize, vocabulary, 500))\n",
    "test_data[\"review_processed\"] = test_data[\"review\"].apply(lambda x: process_reviews(x, word_tokenize, vocabulary, 500))\n",
    "\n",
    "training_data_processed = training_data[[\"review_processed\", \"sentiment\"]]\n",
    "validation_data_processed  = validation_data[[\"review_processed\", \"sentiment\"]]\n",
    "test_data_processed  = test_data[[\"review_processed\", \"sentiment\"]]\n",
    "\n",
    "training_data_processed.to_csv(\"./data/training/training_data_processed.csv\", index = False)\n",
    "validation_data_processed.to_csv(\"./data/validation/validation_data_processed.csv\", index = False)\n",
    "test_data_processed.to_csv(\"./data/test/test_data_processed.csv\", index = False)\n"
   ]
  },
  {
   "cell_type": "code",
   "execution_count": 22,
   "metadata": {},
   "outputs": [],
   "source": [
    "def convert_to_tensor(dataframe):\n",
    "        review_processed_values = dataframe['review_processed'].tolist()\n",
    "        sentiment_values = dataframe['sentiment'].tolist()\n",
    "\n",
    "        review_processed_tensor = torch.tensor(review_processed_values)\n",
    "        sentiment_tensor = torch.tensor(sentiment_values)\n",
    "\n",
    "        sentiment_tensor = sentiment_tensor.unsqueeze(1)\n",
    "        combined_tensor = torch.cat((review_processed_tensor, sentiment_tensor), dim=1)\n",
    "        return combined_tensor\n",
    "\n",
    "training_data_tensor = convert_to_tensor(training_data_processed)\n",
    "validation_data_tensor = convert_to_tensor(validation_data_processed)\n",
    "test_data_tensor = convert_to_tensor(test_data_processed)\n",
    "\n"
   ]
  },
  {
   "cell_type": "code",
   "execution_count": 23,
   "metadata": {},
   "outputs": [],
   "source": [
    "class dataset(Dataset):\n",
    "    def __init__(self,data):\n",
    "        self.data = data\n",
    "    \n",
    "    def __len__(self):\n",
    "        return len(self.data)\n",
    "    \n",
    "    def __getitem__(self, index):\n",
    "        return self.data[index]\n",
    "\n",
    "train_dataset = dataset(training_data_tensor)\n",
    "validaton_dataset = dataset(validation_data_tensor)\n",
    "test_dataset = dataset(test_data_tensor)\n",
    "\n",
    "torch.save(train_dataset, \"./data/training/training_dataset.pth\")\n",
    "torch.save(validaton_dataset, \"./data/validation/validation_dataset.pth\")\n",
    "torch.save(test_dataset, \"./data/test/test_dataset.pth\")"
   ]
  },
  {
   "cell_type": "code",
   "execution_count": null,
   "metadata": {},
   "outputs": [],
   "source": []
  }
 ],
 "metadata": {
  "kernelspec": {
   "display_name": "sentiment_analysis",
   "language": "python",
   "name": "python3"
  },
  "language_info": {
   "codemirror_mode": {
    "name": "ipython",
    "version": 3
   },
   "file_extension": ".py",
   "mimetype": "text/x-python",
   "name": "python",
   "nbconvert_exporter": "python",
   "pygments_lexer": "ipython3",
   "version": "3.11.5"
  }
 },
 "nbformat": 4,
 "nbformat_minor": 2
}
